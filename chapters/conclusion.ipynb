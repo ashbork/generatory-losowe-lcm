{
 "cells": [
  {
   "cell_type": "markdown",
   "metadata": {},
   "source": [
    "# Wnioski\n",
    "\n",
    "## Zalety\n",
    "\n",
    "### Szybkie\n",
    "Generator LCG jest szybki - jako, że to tylko jedna operacja arytmetyczna, która ponadto jest sprzętowo bardzo tania (a w przypadku modułów potęg dwójki potencjalnie jeszcze szybsza), algorytm gwarantuje nam szybkie wyniki. \n",
    "\n",
    "### Oszczędne pamięciowo\n",
    "W trakcie działania algorytmu nie musimy przechowywać żadnych danych poza aktualnym stanem generatora. To czyni go świetnym kandydatem do zastosowań w systemach wbudowanych, gdzie pamięć jest ograniczona.\n",
    "\n",
    "### Proste w implementacji\n",
    "Pomijając kwestie formalne takie jak wybór parametrów i udowodnienie jakości generowanych liczb, implementacja generatora LCG jest bardzo prosta. \n",
    "\n",
    "## Wady\n",
    "\n",
    "### Nieodpowiednie do zastosowań kryptograficznych\n",
    "Absolutnie nie powinniśmy używać generatorów liniowych kongruencyjnych w kontekście kryptografii. Nawet przy dobrze dobranych parametrach, istnieją metody pozwalające na przewidzenie kolejnych wartości generowanych przez algorytm po obserwacji poprzednich.\n",
    "\n",
    "### Nielosowe\n",
    "W sensie matematycznym, liczby generowane przez LCG nie są losowe. Po prawdziwą losowość musimy sięgnąć do źródeł fizycznych, na przykład szumów elektrycznych. \n",
    "\n",
    "### Krótki okres\n",
    "Okres generatora jest ograniczony przez moduł - inne algorytmy generowania liczb losowych, takie jak Mersenne Twister, mają znacznie dłuższe okresy. \n",
    "\n",
    "### Wrażliwe na parametry\n",
    "Złe parametry generatora mogą zupełnie zniszczyć jakość generowanych liczb - prostym przykładem jest wskazany wcześniej $a=0, c=0$, który generował ciąg zer niezależnie od ziarna. \n",
    "\n",
    "### Jakość generowanych liczb\n",
    "LCG nie gwarantuje spełnienia wszystkich testów losowości - szczególnie mowa o równomierności rozkładu. \n",
    "\n",
    "### Dyskretny rozkład\n",
    "Generowane liczby są zawsze całkowite - jeśli potrzebujemy liczb zmiennoprzecinkowych, musimy je odpowiednio przeskalować. Mapowanie wyników na zakres $[0,1]$ jest proste, ale może prowadzić do problemów z precyzją i równomiernością rozkładu.\n",
    "\n",
    "## Podsumowanie\n",
    "Liniowe generatory kongruencyjne są przede wszystkim świetnym wprowadzeniem do tematu generatorów liczb pseudolosowych. Ze względu na swoją prostotę ułatwiają zrozumienie jego fundamentalnych kwestii. Ich liczne wady nie czynią ich bezużytecznymi czy przestarzałymi - ważne tylko, żeby mieć je na uwadze i stosować tylko wtedy, gdy wiemy, że są odpowiednie do naszych potrzeb."
   ]
  }
 ],
 "metadata": {
  "language_info": {
   "name": "python"
  }
 },
 "nbformat": 4,
 "nbformat_minor": 2
}
