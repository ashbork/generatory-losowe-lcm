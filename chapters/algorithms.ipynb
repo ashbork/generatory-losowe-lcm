{
 "cells": [
  {
   "cell_type": "markdown",
   "metadata": {},
   "source": [
    "# Algorytmy losowe"
   ]
  },
  {
   "cell_type": "markdown",
   "metadata": {},
   "source": [
    "Używając standardowych bilbiotek naszych ulubionych języków programowania, możemy uzyskać liczby losowe. Przykładowo Python oferuje moduł `random`, który zawiera funkcje do generowania liczb losowych. Choć dla nas jako konsumentów bibliotek jest to niewidoczne, wybór odpowiedniego algorytmu jest bardzo istotny. Jakie są ważne metryki takich algorytmów?\n",
    "\n",
    "## Budowa generatora liczb losowych\n",
    "\n",
    "Generator liczb losowych to funkcja, która przyjmuje pewien stan (nazywany *ziarnem*, *seed*) i zwraca kolejną liczbę losową oraz nowy stan. Dla określonego ziarna generator zawsze zwraca tę samą sekwencję liczb losowych, dlatego poniższy blok kodu zawsze zwróci nam `0.8444218515250481`. "
   ]
  },
  {
   "cell_type": "code",
   "execution_count": 1,
   "metadata": {},
   "outputs": [
    {
     "data": {
      "text/plain": [
       "0.8444218515250481"
      ]
     },
     "execution_count": 1,
     "metadata": {},
     "output_type": "execute_result"
    }
   ],
   "source": [
    "import random\n",
    "\n",
    "random.seed(0)\n",
    "\n",
    "random.random()"
   ]
  },
  {
   "cell_type": "markdown",
   "metadata": {},
   "source": [
    "Algorytm wykorzystywany w Pythonie jest oparty na generatorze Mersenne Twister {cite}`python-random-module` - ważna dla nas metryka to jego *okres*, czyli długość sekwencji liczb losowych, po której generator zacznie się powtarzać. Dla MT wynosi on $2^{19937} - 1$. Oprócz tego jest bardzo równomierny, co przybliża nas do prawdziwej losowości."
   ]
  },
  {
   "cell_type": "markdown",
   "metadata": {},
   "source": [
    "## Pozostałe generatory\n",
    "\n",
    "Oprócz MT, istnieją inne generatory stosowane w praktyce. Wśród nich jest LCG (Linear Congruential Generator), XORShift, czy MWC (Multiply-With-Carry). Choć Mersenne Twister jest bardzo dobrym i szybkim generatorem, jest skomplikowany w budowie. Skupimy się na prostszym LCG."
   ]
  }
 ],
 "metadata": {
  "kernelspec": {
   "display_name": "Python 3",
   "language": "python",
   "name": "python3"
  },
  "language_info": {
   "codemirror_mode": {
    "name": "ipython",
    "version": 3
   },
   "file_extension": ".py",
   "mimetype": "text/x-python",
   "name": "python",
   "nbconvert_exporter": "python",
   "pygments_lexer": "ipython3",
   "version": "3.11.0"
  }
 },
 "nbformat": 4,
 "nbformat_minor": 2
}
