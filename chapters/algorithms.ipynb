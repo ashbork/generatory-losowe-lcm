{
 "cells": [
  {
   "cell_type": "markdown",
   "metadata": {},
   "source": [
    "# Algorytmy losowe\n",
    "r"
   ]
  },
  {
   "cell_type": "code",
   "execution_count": 1,
   "metadata": {},
   "outputs": [
    {
     "data": {
      "text/plain": [
       "0.8444218515250481"
      ]
     },
     "execution_count": 1,
     "metadata": {},
     "output_type": "execute_result"
    }
   ],
   "source": [
    "import random\n",
    "\n",
    "random.seed(0)\n",
    "\n",
    "random.random()"
   ]
  },
  {
   "cell_type": "markdown",
   "metadata": {},
   "source": [
    "Używając standardowych bilbiotek naszych ulubionych języków programowania, możemy uzyskać liczby losowe. Przykładowo Python oferuje moduł `random`, który zawiera funkcje do generowania liczb losowych. Choć dla nas jako konsumentów bibliotek jest to niewidoczne, wybór odpowiedniego algorytmu jest bardzo istotny. Jakie są ważne metryki takich algorytmów?\n",
    "\n",
    "## Budowa generatora liczb losowych\n",
    "\n",
    "Generator liczb losowych to funkcja, która przyjmuje pewien stan (nazywany *ziarnem*, *seed*) i zwraca kolejną liczbę losową oraz nowy stan. Dla określonego ziarna generator zawsze zwraca tę samą sekwencję liczb losowych, dlatego powyższy blok kodu zawsze zwróci nam `0.8444218515250481`. "
   ]
  }
 ],
 "metadata": {
  "kernelspec": {
   "display_name": "Python 3",
   "language": "python",
   "name": "python3"
  },
  "language_info": {
   "codemirror_mode": {
    "name": "ipython",
    "version": 3
   },
   "file_extension": ".py",
   "mimetype": "text/x-python",
   "name": "python",
   "nbconvert_exporter": "python",
   "pygments_lexer": "ipython3",
   "version": "3.11.0"
  }
 },
 "nbformat": 4,
 "nbformat_minor": 2
}
