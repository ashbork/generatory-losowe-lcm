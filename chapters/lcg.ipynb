{
 "cells": [
  {
   "cell_type": "markdown",
   "metadata": {},
   "source": [
    "# LCG - opis i wdrożenie\n",
    "\n",
    "## Definicja\n",
    "\n",
    "\n",
    "```{prf:algorithm} LCG\n",
    ":label: lcg\n",
    "**Wejście** $m$ - moduł, $a$ - mnożnik, $c$ - przyrost, $X_0$ - ziarno.\n",
    "\n",
    "$m, a, c, X_0 \\in \\mathbb{N}$, \n",
    "\n",
    "$m > 0$, \n",
    "\n",
    "$a < m$, \n",
    "\n",
    "$c < m$, \n",
    "\n",
    "$X_0 < m$.\n",
    "\n",
    "**Wyjście** Wygeneruj ciąg liczb pseudolosowych $X_1, X_2, \\ldots, X_n$ zadany przez wzór rekurencyjny:\n",
    "\n",
    "$$\n",
    "X_{n+1} = (aX_n + c)\\mod m, \\quad   n \\geq 0\n",
    "$$\n",
    "```"
   ]
  },
  {
   "cell_type": "markdown",
   "metadata": {},
   "source": [
    "## Wdrożenie"
   ]
  },
  {
   "cell_type": "code",
   "execution_count": 111,
   "metadata": {},
   "outputs": [],
   "source": [
    "from typing import Generator, Tuple\n",
    "\n",
    "def lcg(m: int, a: int, c: int, X0: int) -> Generator[int, None, None]:\n",
    "  prevX = X0\n",
    "  while True:\n",
    "    prevX = (a * prevX + c) % m\n",
    "    yield prevX\n"
   ]
  },
  {
   "cell_type": "markdown",
   "metadata": {},
   "source": [
    "Ta prosta implementacja algorytmu pozwoli nam popróbować różnych parametrów. Oprócz tego dopiszę parę pomocniczych funkcji:"
   ]
  },
  {
   "cell_type": "code",
   "execution_count": 112,
   "metadata": {},
   "outputs": [],
   "source": [
    "def print_n(gen: Generator[int, None, None], n: int) -> None:\n",
    "    print([next(gen) for _ in range(n)])\n",
    "\n",
    "\n",
    "def get_ranges(\n",
    "    gen: Generator[int, None, None], range_1: Tuple[int, int], range_2: Tuple[int, int]\n",
    ") -> Tuple[list[int], list[int]]:\n",
    "    ret1 = []\n",
    "    ret2 = []\n",
    "\n",
    "    for idx, i in enumerate(gen):\n",
    "        if idx > range_2[1]:\n",
    "            break\n",
    "        if range_1[0] <= idx <= range_1[1]:\n",
    "            ret1.append(i)\n",
    "        if range_2[0] <= idx <= range_2[1]:\n",
    "            ret2.append(i)\n",
    "        \n",
    "\n",
    "    return ret1, ret2\n"
   ]
  },
  {
   "cell_type": "code",
   "execution_count": 113,
   "metadata": {},
   "outputs": [
    {
     "name": "stdout",
     "output_type": "stream",
     "text": [
      "[2, 2, 2, 2, 2, 2, 2, 2, 2, 2]\n",
      "[2, 3, 4, 5, 6, 7, 8, 9, 0, 1]\n"
     ]
    }
   ],
   "source": [
    "bad_generator = lcg(10, 0, 2, 2)\n",
    "\n",
    "print_n(bad_generator, 10) \n",
    "\n",
    "another_bad_generator = lcg(10, 1, 1, 1)\n",
    "\n",
    "print_n(another_bad_generator, 10)"
   ]
  },
  {
   "cell_type": "markdown",
   "metadata": {},
   "source": [
    "$a$ (mnożnik) wyraźnie jest bardzo istotny - jak widać $0$ pozostawia nas w stałym miejscu, a $1$ daje nam bardzo przewidywalny ciąg liniowy. To uwydatnia, jak ważny jest odpowiedni wybór naszych wejściowych parametrów. Nasz ciąg zawsze wejdzie w cykl, ale, co jest ogromną zaletą, mamy kontrolę nad jego długością."
   ]
  },
  {
   "cell_type": "code",
   "execution_count": 117,
   "metadata": {},
   "outputs": [
    {
     "name": "stdout",
     "output_type": "stream",
     "text": [
      "[94, 28, 78, 44, 62, 60, 46, 76, 30, 92, 14, 108, 126, 124, 110, 12]\n",
      "[94, 28, 78, 44, 62, 60, 46, 76, 30, 92, 14, 108, 126, 124, 110, 12]\n"
     ]
    }
   ],
   "source": [
    "gen = lcg(128, 7, 10, 12)\n",
    "\n",
    "l, r = get_ranges(gen, (0, 15), (16, 31))\n",
    "print(l)\n",
    "print(r)"
   ]
  }
 ],
 "metadata": {
  "kernelspec": {
   "display_name": "Python 3",
   "language": "python",
   "name": "python3"
  },
  "language_info": {
   "codemirror_mode": {
    "name": "ipython",
    "version": 3
   },
   "file_extension": ".py",
   "mimetype": "text/x-python",
   "name": "python",
   "nbconvert_exporter": "python",
   "pygments_lexer": "ipython3",
   "version": "3.11.0"
  }
 },
 "nbformat": 4,
 "nbformat_minor": 2
}
