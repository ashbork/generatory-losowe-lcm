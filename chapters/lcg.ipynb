{
 "cells": [
  {
   "cell_type": "markdown",
   "metadata": {},
   "source": [
    "# LCG - opis i wdrożenie\n",
    "\n",
    "## Opis\n",
    "\n",
    "\n",
    "```{prf:algorithm} LCG\n",
    ":label: lcg\n",
    "**Wejście** $m$ - moduł, $a$ - mnożnik, $c$ - przyrost, $X_0$ - ziarno.\n",
    "\n",
    "$m, a, c, X_0 \\in \\mathbb{N}$, \n",
    "\n",
    "$m > 0$, \n",
    "\n",
    "$a < m$, \n",
    "\n",
    "$c < m$, \n",
    "\n",
    "$X_0 < m$.\n",
    "\n",
    "**Wyjście** Wygeneruj ciąg liczb pseudolosowych $X_1, X_2, \\ldots, X_n$ zadany przez wzór rekurencyjny:\n",
    "\n",
    "$$\n",
    "X_{n+1} = (aX_n + c)\\mod m, \\quad   n \\geq 0\n",
    "$$\n",
    "```"
   ]
  }
 ],
 "metadata": {
  "language_info": {
   "name": "python"
  }
 },
 "nbformat": 4,
 "nbformat_minor": 2
}
