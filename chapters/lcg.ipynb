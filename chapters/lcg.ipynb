{
 "cells": [
  {
   "cell_type": "markdown",
   "metadata": {},
   "source": [
    "# LCG\n",
    "\n",
    "## Definicja\n",
    "\n",
    "\n",
    "```{prf:algorithm} LCG\n",
    ":label: lcg\n",
    "**Wejście** $m$ - moduł, $a$ - mnożnik, $c$ - przyrost, $X_0$ - ziarno.\n",
    "\n",
    "$m, a, c, X_0 \\in \\mathbb{N}$, \n",
    "\n",
    "$m > 0$, \n",
    "\n",
    "$a < m$, \n",
    "\n",
    "$c < m$, \n",
    "\n",
    "$X_0 < m$.\n",
    "\n",
    "**Wyjście** Wygeneruj ciąg liczb pseudolosowych $X_1, X_2, \\ldots, X_n$ zadany przez wzór rekurencyjny:\n",
    "\n",
    "$$\n",
    "X_{n+1} = (aX_n + c)\\mod m, \\quad   n \\geq 0\n",
    "$$\n",
    "```"
   ]
  },
  {
   "cell_type": "markdown",
   "metadata": {},
   "source": [
    "## Wdrożenie"
   ]
  },
  {
   "cell_type": "code",
   "execution_count": 38,
   "metadata": {},
   "outputs": [],
   "source": [
    "from typing import Generator, Tuple\n",
    "\n",
    "def lcg(m: int, a: int, c: int, X0: int) -> Generator[int, None, None]:\n",
    "  prevX = X0\n",
    "  while True:\n",
    "    prevX = (a * prevX + c) % m\n",
    "    yield prevX\n"
   ]
  },
  {
   "cell_type": "markdown",
   "metadata": {},
   "source": [
    "Ta prosta implementacja algorytmu LCG pozwoli nam popróbować różnych parametrów. Oprócz tego dopiszę parę pomocniczych funkcji:"
   ]
  },
  {
   "cell_type": "code",
   "execution_count": 39,
   "metadata": {},
   "outputs": [],
   "source": [
    "def print_n(gen: Generator[int, None, None], n: int) -> None:\n",
    "    print([next(gen) for _ in range(n)])\n",
    "\n",
    "\n",
    "def get_ranges(\n",
    "    gen: Generator[int, None, None], range_1: Tuple[int, int], range_2: Tuple[int, int]\n",
    ") -> Tuple[list[int], list[int]]:\n",
    "    ret1 = []\n",
    "    ret2 = []\n",
    "\n",
    "    for idx, i in enumerate(gen):\n",
    "        if idx > range_2[1]:\n",
    "            break\n",
    "        if range_1[0] <= idx <= range_1[1]:\n",
    "            ret1.append(i)\n",
    "        if range_2[0] <= idx <= range_2[1]:\n",
    "            ret2.append(i)\n",
    "        \n",
    "\n",
    "    return ret1, ret2\n"
   ]
  },
  {
   "cell_type": "code",
   "execution_count": 40,
   "metadata": {},
   "outputs": [
    {
     "name": "stdout",
     "output_type": "stream",
     "text": [
      "[2, 2, 2, 2, 2, 2, 2, 2, 2, 2]\n",
      "[2, 3, 4, 5, 6, 7, 8, 9, 0, 1]\n"
     ]
    }
   ],
   "source": [
    "bad_generator = lcg(10, 0, 2, 2)\n",
    "\n",
    "print_n(bad_generator, 10) \n",
    "\n",
    "another_bad_generator = lcg(10, 1, 1, 1)\n",
    "\n",
    "print_n(another_bad_generator, 10)"
   ]
  },
  {
   "cell_type": "markdown",
   "metadata": {},
   "source": [
    "$a$ (mnożnik) wyraźnie jest bardzo istotny - jak widać $0$ pozostawia nas w stałym miejscu, a $1$ daje nam bardzo przewidywalny ciąg liniowy. To uwydatnia, jak ważny jest odpowiedni wybór naszych wejściowych parametrów. Nasz ciąg zawsze wejdzie w cykl, ale, co jest ogromną zaletą, mamy kontrolę nad jego długością."
   ]
  },
  {
   "cell_type": "code",
   "execution_count": 41,
   "metadata": {},
   "outputs": [
    {
     "name": "stdout",
     "output_type": "stream",
     "text": [
      "[94, 28, 78, 44, 62, 60, 46, 76, 30, 92, 14, 108, 126, 124, 110, 12]\n",
      "[94, 28, 78, 44, 62, 60, 46, 76, 30, 92, 14, 108, 126, 124, 110, 12]\n",
      "Ranges are equal\n"
     ]
    }
   ],
   "source": [
    "gen = lcg(128, 7, 10, 12)\n",
    "\n",
    "l, r = get_ranges(gen, (0, 15), (16, 31))\n",
    "print(l)\n",
    "print(r)\n",
    "print(\"Ranges are equal\" if l == r else \"Ranges are not equal\")"
   ]
  },
  {
   "cell_type": "markdown",
   "metadata": {},
   "source": [
    "## Właściwości\n",
    "\n",
    "Okres ciągu generowanego przez LCG może być co najwyżej równy $m$, ale, jak widać powyżej, zależy od wyboru parametrów. Tutaj, choć $m = 128$, okres wynosi $16$. Bardzo dobre wartości (dające najdłuższy okres) dla naszych parametrów to:\n",
    "\n",
    "- $m$ - potęga $2$,\n",
    "- $c$ - względnie pierwsze z $m$,\n",
    "- $a - 1$ jest podzielne przez wszystkie pierwsze dzielniki $m$,\n",
    "- $a - 1$ jest podzielne przez $4$, jeśli $m$ jest podzielne przez $4$.\n",
    "\n",
    "Taki układ parametrów nazywany jest \"full-period\" i został opracowany przez Hulla i Dobella {cite}`hull-dobell-first-theorem`. (W bardziej przystępnej formie Howard Rudd pisze na swoim blogu {cite}`hull-dobell-first-theorem-howard-rudd`). Uwaga: nie wszystkie wartości spełniające te warunki dają nam wysokiej jakości generator - sprawdza się to za pomocą testów statystycznych. \n",
    "\n",
    "Dodatkowym atutem $m$ będącego potęgą $2$ jest szybsze obliczanie modulo - zamiast $X \\mod m$ możemy użyć $X \\& (m - 1)$ (bitwise AND)."
   ]
  },
  {
   "cell_type": "code",
   "execution_count": 42,
   "metadata": {},
   "outputs": [],
   "source": [
    "def lcg_power_of_two(m: int, a: int, c: int, X0: int) -> Generator[int, None, None]:\n",
    "    # assert m & (m - 1) == 0\n",
    "    prevX = X0\n",
    "    while True:\n",
    "        prevX = (a * prevX + c) & (m - 1)\n",
    "        yield prevX"
   ]
  },
  {
   "cell_type": "code",
   "execution_count": 86,
   "metadata": {},
   "outputs": [
    {
     "data": {
      "image/png": "[encoded data removed]",
      "text/plain": [
       "<Figure size 640x480 with 1 Axes>"
      ]
     },
     "metadata": {},
     "output_type": "display_data"
    },
    {
     "name": "stdout",
     "output_type": "stream",
     "text": [
      "Bitwise AND is faster by roughly 2.901546 percent\n"
     ]
    }
   ],
   "source": [
    "import timeit\n",
    "import time\n",
    "import matplotlib.pyplot as plt\n",
    "from statistics import mean\n",
    "\n",
    "mod = 2**16\n",
    "a = 1103515245\n",
    "c = 1\n",
    "seed = time.time_ns() % mod\n",
    "\n",
    "\n",
    "def mod_operation(n: int, seed: int, a: int, c: int, mod: int) -> int:\n",
    "    prevX = seed\n",
    "    for _ in range(n):\n",
    "        prevX = (a * prevX + c) % mod\n",
    "    return prevX\n",
    "\n",
    "\n",
    "def and_operation(n: int, seed: int, a: int, c: int, mask: int) -> int:\n",
    "    prevX = seed\n",
    "    for _ in range(n):\n",
    "        prevX = (a * prevX + c) & mask\n",
    "    return prevX\n",
    "\n",
    "\n",
    "def measure_time(func, *args) -> float:\n",
    "    warmup_iterations = 10\n",
    "    actual_iterations = 100\n",
    "\n",
    "    # Warm-up runs\n",
    "    for _ in range(warmup_iterations):\n",
    "        func(*args)\n",
    "\n",
    "    times = timeit.repeat(lambda: func(*args), number=1, repeat=actual_iterations)\n",
    "    return mean(times)\n",
    "\n",
    "\n",
    "iteration_counts = [1, 10, 100, 1000, 10000, 100000, 500000]\n",
    "\n",
    "mod_times = [measure_time(mod_operation, n, seed, a, c, mod) for n in iteration_counts]\n",
    "and_times = [\n",
    "    measure_time(and_operation, n, seed, a, c, mod - 1) for n in iteration_counts\n",
    "]\n",
    "\n",
    "plt.plot(iteration_counts, mod_times, label=\"Mod operation\")\n",
    "plt.plot(iteration_counts, and_times, label=\"And operation\")\n",
    "\n",
    "plt.xlabel(\"Iteration count\")\n",
    "plt.ylabel(\"Time (s)\")\n",
    "plt.xscale(\"log\")\n",
    "plt.yscale(\"log\")\n",
    "plt.legend()\n",
    "plt.show()\n",
    "\n",
    "print(f\"Bitwise AND is faster by roughly {100 * (1 - mean(and_times) / mean(mod_times)):2f} percent\")\n"
   ]
  },
  {
   "cell_type": "markdown",
   "metadata": {},
   "source": [
    "W naszym prostym teście możemy zauważyć, że operacja modulo rzeczywiście jest bardziej kosztowna, więc $m$ będące potęgą $2$ jest atrakcyjne. Oczywiście ten benchmark nie jest bardzo dokładny, ale pokazuje, że warto zwrócić na to uwagę.\n",
    "\n"
   ]
  }
 ],
 "metadata": {
  "kernelspec": {
   "display_name": "Python 3",
   "language": "python",
   "name": "python3"
  },
  "language_info": {
   "codemirror_mode": {
    "name": "ipython",
    "version": 3
   },
   "file_extension": ".py",
   "mimetype": "text/x-python",
   "name": "python",
   "nbconvert_exporter": "python",
   "pygments_lexer": "ipython3",
   "version": "3.11.0"
  }
 },
 "nbformat": 4,
 "nbformat_minor": 2
}
