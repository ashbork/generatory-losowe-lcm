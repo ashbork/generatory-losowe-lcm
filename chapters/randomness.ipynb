{
 "cells": [
  {
   "cell_type": "markdown",
   "metadata": {},
   "source": [
    "# Czym jest losowość?\n",
    "\n",
    "## Definicje\n",
    "\n",
    "Losowość oznacza brak przewidywalnego zachowania. Mówi się, że coś jest losowe wtedy i tylko wtedy, gdy dzieje się _przez przypadek_ {cite}`sep-chance-randomness`. Jego wyniki nie są dokładnie przewidywalne; możemy się jedynie zbliżyć do ich rozkładu. Zauważamy ją w codziennym życiu (choć nie wszystko, co nieprzewidywalne, jest też prawdziwie losowe), ale też w naturze, co bada fizyka i biologia. Stosujemy ją w przeróżnych obszarach życia - sporcie, polityce, medycynie, jak i oczywiście informatyce. Ma świetne zastosowania w obszarach, gdzie nie możemy pozwolić na stronniczość albo przewidywalność - idealnym przykładem jest kryptografia, gdzie **krytyczna** jest nieprzewidywalność klucza szyfrującego.\n",
    "\n",
    "## Jak osiągnąć losowość?\n",
    "\n",
    "Losowość występuje naturalnie, przykładowo w wynikach rzutu monetą i podobnych procesach fizycznych, świecie materialnym, ciągłym. Informatyka jednak opiera się na ściśle dyskretnych, deterministycznych procesach - możemy tworzyć algorytmy, które wydają się losowe, ale tylko z punktu widzenia człowieka; w rzeczywistości przy takim samym stanie początkowym zawsze otrzymamy ten sam wynik. Czasem sięgamy z warstwy oprogramowania do specjalnie przeznaczonych, sprzętowych generatorów losowości, ale natrafiamy na odwrotny problem - trudno ocenić entropię takiego generatora, a co za tym idzie, jego faktyczną losowość. Oprócz tego ze względu na jego *fizyczność* jest podatny na zakłócenia, błędy i zużycie. Są też wolniejsze niż algorytmy przybliżające losowość."
   ]
  }
 ],
 "metadata": {
  "kernelspec": {
   "display_name": "Python 3",
   "language": "python",
   "name": "python3"
  },
  "language_info": {
   "codemirror_mode": {
    "name": "ipython",
    "version": 3
   },
   "file_extension": ".py",
   "mimetype": "text/x-python",
   "name": "python",
   "nbconvert_exporter": "python",
   "pygments_lexer": "ipython3",
   "version": "3.11.0"
  }
 },
 "nbformat": 4,
 "nbformat_minor": 2
}
